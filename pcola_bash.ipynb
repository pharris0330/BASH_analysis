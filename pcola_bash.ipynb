{
 "cells": [
  {
   "cell_type": "code",
   "execution_count": 133,
   "metadata": {},
   "outputs": [],
   "source": [
    "import numpy as np \n",
    "import matplotlib.pyplot as plt \n",
    "import pandas as pd\n",
    "from datetime import datetime\n",
    "bash = pd.read_csv('pcola_2008_present.csv',encoding=\"Windows-1251\")\n",
    "df = pd.DataFrame(data=bash)\n",
    "df[\"Date\"] = pd.to_datetime(df[\"Date\"])  \n",
    "df['Year'] = df['Date'].dt.year\n",
    "df['Month'] = df['Date'].dt.month \n",
    "df['Day'] = df['Date'].dt.day \n"
   ]
  },
  {
   "cell_type": "code",
   "execution_count": 131,
   "metadata": {},
   "outputs": [
    {
     "data": {
      "text/plain": [
       "Series([], Name: Day, dtype: int64)"
      ]
     },
     "execution_count": 131,
     "metadata": {},
     "output_type": "execute_result"
    }
   ],
   "source": [
    "#filter by Occurance at NAS Pensacola (KNPA)\n",
    "#filter by Month and Year\n",
    "filter_Jan_2008 = (df['Occurred_at_KNPA?'] == 'yes') & (df[\"Year\"] == 2008) & (df[\"Month\"] == 1)\n",
    "Jan_2008 = df[filter_Jan_2008]\n",
    "Jan_2008_count = Jan_2008['Day'].value_counts()\n",
    "Jan_2008_count"
   ]
  },
  {
   "cell_type": "code",
   "execution_count": 132,
   "metadata": {},
   "outputs": [
    {
     "data": {
      "text/plain": [
       "Series([], Name: Day, dtype: int64)"
      ]
     },
     "execution_count": 132,
     "metadata": {},
     "output_type": "execute_result"
    }
   ],
   "source": [
    "#Jan 2008\n",
    "filter_Jan_2008 = (df['Occurred_at_KNPA?'] == 'yes') & (df[\"Year\"] == 2008) & (df[\"Month\"] == 1)\n",
    "Jan_2008 = df[filter_Jan_2008]\n",
    "Jan_2008_count = Jan_2008['Day'].value_counts()\n",
    "Jan_2008_count"
   ]
  },
  {
   "cell_type": "code",
   "execution_count": 90,
   "metadata": {},
   "outputs": [
    {
     "data": {
      "text/plain": [
       "Series([], Name: Day, dtype: int64)"
      ]
     },
     "execution_count": 90,
     "metadata": {},
     "output_type": "execute_result"
    }
   ],
   "source": [
    "#Feb 2008\n",
    "filter_Mon_Year = (df['Occurred_at_KNPA?'] == 'yes') & (df[\"Year\"] == 2008) & (df[\"Month\"] == 2)\n",
    "Mon_Year = df[filter_Mon_Year]\n",
    "Mon_Year_count = Mon_Year['Day'].value_counts()\n",
    "Mon_Year_count"
   ]
  },
  {
   "cell_type": "code",
   "execution_count": 92,
   "metadata": {},
   "outputs": [
    {
     "data": {
      "text/plain": [
       "Series([], Name: Day, dtype: int64)"
      ]
     },
     "execution_count": 92,
     "metadata": {},
     "output_type": "execute_result"
    }
   ],
   "source": [
    "#Mar 2008\n",
    "filter_Mon_Year = (df['Occurred_at_KNPA?'] == 'yes') & (df[\"Year\"] == 2008) & (df[\"Month\"] == 3)\n",
    "Mon_Year = df[filter_Mon_Year]\n",
    "Mon_Year_count = Mon_Year['Day'].value_counts()\n",
    "Mon_Year_count"
   ]
  },
  {
   "cell_type": "code",
   "execution_count": 93,
   "metadata": {},
   "outputs": [
    {
     "data": {
      "text/plain": [
       "9    1\n",
       "Name: Day, dtype: int64"
      ]
     },
     "execution_count": 93,
     "metadata": {},
     "output_type": "execute_result"
    }
   ],
   "source": [
    "#Apr 2008\n",
    "filter_Mon_Year = (df['Occurred_at_KNPA?'] == 'yes') & (df[\"Year\"] == 2008) & (df[\"Month\"] == 4)\n",
    "Mon_Year = df[filter_Mon_Year]\n",
    "Mon_Year_count = Mon_Year['Day'].value_counts()\n",
    "Mon_Year_count"
   ]
  },
  {
   "cell_type": "code",
   "execution_count": 94,
   "metadata": {},
   "outputs": [
    {
     "data": {
      "text/plain": [
       "14    1\n",
       "28    1\n",
       "Name: Day, dtype: int64"
      ]
     },
     "execution_count": 94,
     "metadata": {},
     "output_type": "execute_result"
    }
   ],
   "source": [
    "#May 2008\n",
    "filter_Mon_Year = (df['Occurred_at_KNPA?'] == 'yes') & (df[\"Year\"] == 2008) & (df[\"Month\"] == 5)\n",
    "Mon_Year = df[filter_Mon_Year]\n",
    "Mon_Year_count = Mon_Year['Day'].value_counts()\n",
    "Mon_Year_count"
   ]
  },
  {
   "cell_type": "code",
   "execution_count": 95,
   "metadata": {},
   "outputs": [
    {
     "data": {
      "text/plain": [
       "Series([], Name: Day, dtype: int64)"
      ]
     },
     "execution_count": 95,
     "metadata": {},
     "output_type": "execute_result"
    }
   ],
   "source": [
    "#June 2008\n",
    "filter_Mon_Year = (df['Occurred_at_KNPA?'] == 'yes') & (df[\"Year\"] == 2008) & (df[\"Month\"] == 6)\n",
    "Mon_Year = df[filter_Mon_Year]\n",
    "Mon_Year_count = Mon_Year['Day'].value_counts()\n",
    "Mon_Year_count"
   ]
  },
  {
   "cell_type": "code",
   "execution_count": 96,
   "metadata": {},
   "outputs": [
    {
     "data": {
      "text/plain": [
       "25    1\n",
       "Name: Day, dtype: int64"
      ]
     },
     "execution_count": 96,
     "metadata": {},
     "output_type": "execute_result"
    }
   ],
   "source": [
    "#July 2008\n",
    "filter_Mon_Year = (df['Occurred_at_KNPA?'] == 'yes') & (df[\"Year\"] == 2008) & (df[\"Month\"] == 7)\n",
    "Mon_Year = df[filter_Mon_Year]\n",
    "Mon_Year_count = Mon_Year['Day'].value_counts()\n",
    "Mon_Year_count"
   ]
  },
  {
   "cell_type": "code",
   "execution_count": 134,
   "metadata": {},
   "outputs": [
    {
     "data": {
      "text/plain": [
       "26    1\n",
       "17    1\n",
       "Name: Day, dtype: int64"
      ]
     },
     "execution_count": 134,
     "metadata": {},
     "output_type": "execute_result"
    }
   ],
   "source": [
    "#Aug 2008\n",
    "filter_Mon_Year = (df['Occurred_at_KNPA?'] == 'yes') & (df[\"Year\"] == 2008) & (df[\"Month\"] == 8)\n",
    "Mon_Year = df[filter_Mon_Year]\n",
    "Mon_Year_count = Mon_Year['Day'].value_counts()\n",
    "Mon_Year_count"
   ]
  },
  {
   "cell_type": "code",
   "execution_count": 98,
   "metadata": {},
   "outputs": [
    {
     "data": {
      "text/plain": [
       "1    1\n",
       "Name: Day, dtype: int64"
      ]
     },
     "execution_count": 98,
     "metadata": {},
     "output_type": "execute_result"
    }
   ],
   "source": [
    "#Sep 2008\n",
    "filter_Mon_Year = (df['Occurred_at_KNPA?'] == 'yes') & (df[\"Year\"] == 2008) & (df[\"Month\"] == 9)\n",
    "Mon_Year = df[filter_Mon_Year]\n",
    "Mon_Year_count = Mon_Year['Day'].value_counts()\n",
    "Mon_Year_count"
   ]
  },
  {
   "cell_type": "code",
   "execution_count": 99,
   "metadata": {},
   "outputs": [
    {
     "data": {
      "text/plain": [
       "27    1\n",
       "2     1\n",
       "30    1\n",
       "Name: Day, dtype: int64"
      ]
     },
     "execution_count": 99,
     "metadata": {},
     "output_type": "execute_result"
    }
   ],
   "source": [
    "#Oct 2008\n",
    "filter_Mon_Year = (df['Occurred_at_KNPA?'] == 'yes') & (df[\"Year\"] == 2008) & (df[\"Month\"] == 10)\n",
    "Mon_Year = df[filter_Mon_Year]\n",
    "Mon_Year_count = Mon_Year['Day'].value_counts()\n",
    "Mon_Year_count"
   ]
  },
  {
   "cell_type": "code",
   "execution_count": 100,
   "metadata": {},
   "outputs": [
    {
     "data": {
      "text/plain": [
       "7    1\n",
       "Name: Day, dtype: int64"
      ]
     },
     "execution_count": 100,
     "metadata": {},
     "output_type": "execute_result"
    }
   ],
   "source": [
    "#Nov 2008\n",
    "filter_Mon_Year = (df['Occurred_at_KNPA?'] == 'yes') & (df[\"Year\"] == 2008) & (df[\"Month\"] == 11)\n",
    "Mon_Year = df[filter_Mon_Year]\n",
    "Mon_Year_count = Mon_Year['Day'].value_counts()\n",
    "Mon_Year_count"
   ]
  },
  {
   "cell_type": "code",
   "execution_count": 101,
   "metadata": {},
   "outputs": [
    {
     "data": {
      "text/plain": [
       "Series([], Name: Day, dtype: int64)"
      ]
     },
     "execution_count": 101,
     "metadata": {},
     "output_type": "execute_result"
    }
   ],
   "source": [
    "#Dec 2008\n",
    "filter_Mon_Year = (df['Occurred_at_KNPA?'] == 'yes') & (df[\"Year\"] == 2008) & (df[\"Month\"] == 12)\n",
    "Mon_Year = df[filter_Mon_Year]\n",
    "Mon_Year_count = Mon_Year['Day'].value_counts()\n",
    "Mon_Year_count"
   ]
  },
  {
   "cell_type": "code",
   "execution_count": 102,
   "metadata": {},
   "outputs": [
    {
     "data": {
      "text/plain": [
       "Series([], Name: Day, dtype: int64)"
      ]
     },
     "execution_count": 102,
     "metadata": {},
     "output_type": "execute_result"
    }
   ],
   "source": [
    "#Jan 2009\n",
    "filter_Mon_Year = (df['Occurred_at_KNPA?'] == 'yes') & (df[\"Year\"] == 2009) & (df[\"Month\"] == 1)\n",
    "Mon_Year = df[filter_Mon_Year]\n",
    "Mon_Year_count = Mon_Year['Day'].value_counts()\n",
    "Mon_Year_count"
   ]
  },
  {
   "cell_type": "code",
   "execution_count": 103,
   "metadata": {},
   "outputs": [
    {
     "data": {
      "text/plain": [
       "Series([], Name: Day, dtype: int64)"
      ]
     },
     "execution_count": 103,
     "metadata": {},
     "output_type": "execute_result"
    }
   ],
   "source": [
    "#Feb 2009\n",
    "filter_Mon_Year = (df['Occurred_at_KNPA?'] == 'yes') & (df[\"Year\"] == 2009) & (df[\"Month\"] == 2)\n",
    "Mon_Year = df[filter_Mon_Year]\n",
    "Mon_Year_count = Mon_Year['Day'].value_counts()\n",
    "Mon_Year_count"
   ]
  },
  {
   "cell_type": "code",
   "execution_count": 104,
   "metadata": {},
   "outputs": [
    {
     "data": {
      "text/plain": [
       "23    1\n",
       "Name: Day, dtype: int64"
      ]
     },
     "execution_count": 104,
     "metadata": {},
     "output_type": "execute_result"
    }
   ],
   "source": [
    "#Mar 2009\n",
    "filter_Mon_Year = (df['Occurred_at_KNPA?'] == 'yes') & (df[\"Year\"] == 2009) & (df[\"Month\"] == 3)\n",
    "Mon_Year = df[filter_Mon_Year]\n",
    "Mon_Year_count = Mon_Year['Day'].value_counts()\n",
    "Mon_Year_count"
   ]
  },
  {
   "cell_type": "code",
   "execution_count": 105,
   "metadata": {},
   "outputs": [
    {
     "data": {
      "text/plain": [
       "Series([], Name: Day, dtype: int64)"
      ]
     },
     "execution_count": 105,
     "metadata": {},
     "output_type": "execute_result"
    }
   ],
   "source": [
    "#Apr 2009\n",
    "filter_Mon_Year = (df['Occurred_at_KNPA?'] == 'yes') & (df[\"Year\"] == 2009) & (df[\"Month\"] == 4)\n",
    "Mon_Year = df[filter_Mon_Year]\n",
    "Mon_Year_count = Mon_Year['Day'].value_counts()\n",
    "Mon_Year_count"
   ]
  },
  {
   "cell_type": "code",
   "execution_count": 106,
   "metadata": {},
   "outputs": [
    {
     "data": {
      "text/plain": [
       "19    1\n",
       "18    1\n",
       "Name: Day, dtype: int64"
      ]
     },
     "execution_count": 106,
     "metadata": {},
     "output_type": "execute_result"
    }
   ],
   "source": [
    "#May 2009\n",
    "filter_Mon_Year = (df['Occurred_at_KNPA?'] == 'yes') & (df[\"Year\"] == 2009) & (df[\"Month\"] == 5)\n",
    "Mon_Year = df[filter_Mon_Year]\n",
    "Mon_Year_count = Mon_Year['Day'].value_counts()\n",
    "Mon_Year_count"
   ]
  },
  {
   "cell_type": "code",
   "execution_count": 107,
   "metadata": {},
   "outputs": [
    {
     "data": {
      "text/plain": [
       "Series([], Name: Day, dtype: int64)"
      ]
     },
     "execution_count": 107,
     "metadata": {},
     "output_type": "execute_result"
    }
   ],
   "source": [
    "#June 2009\n",
    "filter_Mon_Year = (df['Occurred_at_KNPA?'] == 'yes') & (df[\"Year\"] == 2009) & (df[\"Month\"] == 6)\n",
    "Mon_Year = df[filter_Mon_Year]\n",
    "Mon_Year_count = Mon_Year['Day'].value_counts()\n",
    "Mon_Year_count"
   ]
  },
  {
   "cell_type": "code",
   "execution_count": 108,
   "metadata": {},
   "outputs": [
    {
     "data": {
      "text/plain": [
       "31    1\n",
       "8     1\n",
       "Name: Day, dtype: int64"
      ]
     },
     "execution_count": 108,
     "metadata": {},
     "output_type": "execute_result"
    }
   ],
   "source": [
    "#July 2009\n",
    "filter_Mon_Year = (df['Occurred_at_KNPA?'] == 'yes') & (df[\"Year\"] == 2009) & (df[\"Month\"] == 7)\n",
    "Mon_Year = df[filter_Mon_Year]\n",
    "Mon_Year_count = Mon_Year['Day'].value_counts()\n",
    "Mon_Year_count"
   ]
  },
  {
   "cell_type": "code",
   "execution_count": 109,
   "metadata": {},
   "outputs": [
    {
     "data": {
      "text/plain": [
       "Series([], Name: Day, dtype: int64)"
      ]
     },
     "execution_count": 109,
     "metadata": {},
     "output_type": "execute_result"
    }
   ],
   "source": [
    "#Aug 2009\n",
    "filter_Mon_Year = (df['Occurred_at_KNPA?'] == 'yes') & (df[\"Year\"] == 2009) & (df[\"Month\"] == 8)\n",
    "Mon_Year = df[filter_Mon_Year]\n",
    "Mon_Year_count = Mon_Year['Day'].value_counts()\n",
    "Mon_Year_count"
   ]
  },
  {
   "cell_type": "code",
   "execution_count": 110,
   "metadata": {},
   "outputs": [
    {
     "data": {
      "text/plain": [
       "29    1\n",
       "Name: Day, dtype: int64"
      ]
     },
     "execution_count": 110,
     "metadata": {},
     "output_type": "execute_result"
    }
   ],
   "source": [
    "#Sep 2009\n",
    "filter_Mon_Year = (df['Occurred_at_KNPA?'] == 'yes') & (df[\"Year\"] == 2009) & (df[\"Month\"] == 9)\n",
    "Mon_Year = df[filter_Mon_Year]\n",
    "Mon_Year_count = Mon_Year['Day'].value_counts()\n",
    "Mon_Year_count"
   ]
  },
  {
   "cell_type": "code",
   "execution_count": 111,
   "metadata": {},
   "outputs": [
    {
     "data": {
      "text/plain": [
       "20    1\n",
       "Name: Day, dtype: int64"
      ]
     },
     "execution_count": 111,
     "metadata": {},
     "output_type": "execute_result"
    }
   ],
   "source": [
    "#Oct 2009\n",
    "filter_Mon_Year = (df['Occurred_at_KNPA?'] == 'yes') & (df[\"Year\"] == 2009) & (df[\"Month\"] == 10)\n",
    "Mon_Year = df[filter_Mon_Year]\n",
    "Mon_Year_count = Mon_Year['Day'].value_counts()\n",
    "Mon_Year_count"
   ]
  },
  {
   "cell_type": "code",
   "execution_count": 112,
   "metadata": {},
   "outputs": [
    {
     "data": {
      "text/plain": [
       "Series([], Name: Day, dtype: int64)"
      ]
     },
     "execution_count": 112,
     "metadata": {},
     "output_type": "execute_result"
    }
   ],
   "source": [
    "#Nov 2009\n",
    "filter_Mon_Year = (df['Occurred_at_KNPA?'] == 'yes') & (df[\"Year\"] == 2009) & (df[\"Month\"] == 11)\n",
    "Mon_Year = df[filter_Mon_Year]\n",
    "Mon_Year_count = Mon_Year['Day'].value_counts()\n",
    "Mon_Year_count"
   ]
  },
  {
   "cell_type": "code",
   "execution_count": 113,
   "metadata": {},
   "outputs": [
    {
     "data": {
      "text/plain": [
       "Series([], Name: Day, dtype: int64)"
      ]
     },
     "execution_count": 113,
     "metadata": {},
     "output_type": "execute_result"
    }
   ],
   "source": [
    "#Dec 2009\n",
    "filter_Mon_Year = (df['Occurred_at_KNPA?'] == 'yes') & (df[\"Year\"] == 2009) & (df[\"Month\"] == 12)\n",
    "Mon_Year = df[filter_Mon_Year]\n",
    "Mon_Year_count = Mon_Year['Day'].value_counts()\n",
    "Mon_Year_count"
   ]
  },
  {
   "cell_type": "code",
   "execution_count": 114,
   "metadata": {},
   "outputs": [
    {
     "data": {
      "text/plain": [
       "14    1\n",
       "Name: Day, dtype: int64"
      ]
     },
     "execution_count": 114,
     "metadata": {},
     "output_type": "execute_result"
    }
   ],
   "source": [
    "#Jan 2010\n",
    "filter_Mon_Year = (df['Occurred_at_KNPA?'] == 'yes') & (df[\"Year\"] == 2010) & (df[\"Month\"] == 1)\n",
    "Mon_Year = df[filter_Mon_Year]\n",
    "Mon_Year_count = Mon_Year['Day'].value_counts()\n",
    "Mon_Year_count"
   ]
  },
  {
   "cell_type": "code",
   "execution_count": 115,
   "metadata": {},
   "outputs": [
    {
     "data": {
      "text/plain": [
       "26    1\n",
       "3     1\n",
       "1     1\n",
       "25    1\n",
       "Name: Day, dtype: int64"
      ]
     },
     "execution_count": 115,
     "metadata": {},
     "output_type": "execute_result"
    }
   ],
   "source": [
    "#Feb 2010\n",
    "filter_Mon_Year = (df['Occurred_at_KNPA?'] == 'yes') & (df[\"Year\"] == 2010) & (df[\"Month\"] == 2)\n",
    "Mon_Year = df[filter_Mon_Year]\n",
    "Mon_Year_count = Mon_Year['Day'].value_counts()\n",
    "Mon_Year_count"
   ]
  },
  {
   "cell_type": "code",
   "execution_count": 116,
   "metadata": {},
   "outputs": [
    {
     "data": {
      "text/plain": [
       "Series([], Name: Day, dtype: int64)"
      ]
     },
     "execution_count": 116,
     "metadata": {},
     "output_type": "execute_result"
    }
   ],
   "source": [
    "#Mar 2010\n",
    "filter_Mon_Year = (df['Occurred_at_KNPA?'] == 'yes') & (df[\"Year\"] == 2010) & (df[\"Month\"] == 3)\n",
    "Mon_Year = df[filter_Mon_Year]\n",
    "Mon_Year_count = Mon_Year['Day'].value_counts()\n",
    "Mon_Year_count"
   ]
  },
  {
   "cell_type": "code",
   "execution_count": 117,
   "metadata": {},
   "outputs": [
    {
     "data": {
      "text/plain": [
       "9    1\n",
       "Name: Day, dtype: int64"
      ]
     },
     "execution_count": 117,
     "metadata": {},
     "output_type": "execute_result"
    }
   ],
   "source": [
    "#Apr 2010\n",
    "filter_Mon_Year = (df['Occurred_at_KNPA?'] == 'yes') & (df[\"Year\"] == 2010) & (df[\"Month\"] == 4)\n",
    "Mon_Year = df[filter_Mon_Year]\n",
    "Mon_Year_count = Mon_Year['Day'].value_counts()\n",
    "Mon_Year_count"
   ]
  },
  {
   "cell_type": "code",
   "execution_count": 118,
   "metadata": {},
   "outputs": [
    {
     "data": {
      "text/plain": [
       "5    1\n",
       "Name: Day, dtype: int64"
      ]
     },
     "execution_count": 118,
     "metadata": {},
     "output_type": "execute_result"
    }
   ],
   "source": [
    "#May 2010\n",
    "filter_Mon_Year = (df['Occurred_at_KNPA?'] == 'yes') & (df[\"Year\"] == 2010) & (df[\"Month\"] == 5)\n",
    "Mon_Year = df[filter_Mon_Year]\n",
    "Mon_Year_count = Mon_Year['Day'].value_counts()\n",
    "Mon_Year_count"
   ]
  },
  {
   "cell_type": "code",
   "execution_count": 119,
   "metadata": {},
   "outputs": [
    {
     "data": {
      "text/plain": [
       "10    1\n",
       "21    1\n",
       "Name: Day, dtype: int64"
      ]
     },
     "execution_count": 119,
     "metadata": {},
     "output_type": "execute_result"
    }
   ],
   "source": [
    "#Jun 2010\n",
    "filter_Mon_Year = (df['Occurred_at_KNPA?'] == 'yes') & (df[\"Year\"] == 2010) & (df[\"Month\"] == 6)\n",
    "Mon_Year = df[filter_Mon_Year]\n",
    "Mon_Year_count = Mon_Year['Day'].value_counts()\n",
    "Mon_Year_count"
   ]
  },
  {
   "cell_type": "code",
   "execution_count": 120,
   "metadata": {},
   "outputs": [
    {
     "data": {
      "text/plain": [
       "Series([], Name: Day, dtype: int64)"
      ]
     },
     "execution_count": 120,
     "metadata": {},
     "output_type": "execute_result"
    }
   ],
   "source": [
    "#July 2010\n",
    "filter_Mon_Year = (df['Occurred_at_KNPA?'] == 'yes') & (df[\"Year\"] == 2010) & (df[\"Month\"] == 7)\n",
    "Mon_Year = df[filter_Mon_Year]\n",
    "Mon_Year_count = Mon_Year['Day'].value_counts()\n",
    "Mon_Year_count"
   ]
  },
  {
   "cell_type": "code",
   "execution_count": 121,
   "metadata": {},
   "outputs": [
    {
     "data": {
      "text/plain": [
       "18    1\n",
       "Name: Day, dtype: int64"
      ]
     },
     "execution_count": 121,
     "metadata": {},
     "output_type": "execute_result"
    }
   ],
   "source": [
    "#Aug 2010\n",
    "filter_Mon_Year = (df['Occurred_at_KNPA?'] == 'yes') & (df[\"Year\"] == 2010) & (df[\"Month\"] == 8)\n",
    "Mon_Year = df[filter_Mon_Year]\n",
    "Mon_Year_count = Mon_Year['Day'].value_counts()\n",
    "Mon_Year_count"
   ]
  },
  {
   "cell_type": "code",
   "execution_count": 122,
   "metadata": {},
   "outputs": [
    {
     "data": {
      "text/plain": [
       "20    1\n",
       "Name: Day, dtype: int64"
      ]
     },
     "execution_count": 122,
     "metadata": {},
     "output_type": "execute_result"
    }
   ],
   "source": [
    "#Sep 2010\n",
    "filter_Mon_Year = (df['Occurred_at_KNPA?'] == 'yes') & (df[\"Year\"] == 2010) & (df[\"Month\"] == 9)\n",
    "Mon_Year = df[filter_Mon_Year]\n",
    "Mon_Year_count = Mon_Year['Day'].value_counts()\n",
    "Mon_Year_count"
   ]
  },
  {
   "cell_type": "code",
   "execution_count": 123,
   "metadata": {},
   "outputs": [
    {
     "data": {
      "text/plain": [
       "28    1\n",
       "Name: Day, dtype: int64"
      ]
     },
     "execution_count": 123,
     "metadata": {},
     "output_type": "execute_result"
    }
   ],
   "source": [
    "#Oct 2010\n",
    "filter_Mon_Year = (df['Occurred_at_KNPA?'] == 'yes') & (df[\"Year\"] == 2010) & (df[\"Month\"] == 10)\n",
    "Mon_Year = df[filter_Mon_Year]\n",
    "Mon_Year_count = Mon_Year['Day'].value_counts()\n",
    "Mon_Year_count"
   ]
  },
  {
   "cell_type": "code",
   "execution_count": 124,
   "metadata": {},
   "outputs": [
    {
     "data": {
      "text/plain": [
       "Series([], Name: Day, dtype: int64)"
      ]
     },
     "execution_count": 124,
     "metadata": {},
     "output_type": "execute_result"
    }
   ],
   "source": [
    "#Nov 2010\n",
    "filter_Mon_Year = (df['Occurred_at_KNPA?'] == 'yes') & (df[\"Year\"] == 2010) & (df[\"Month\"] == 11)\n",
    "Mon_Year = df[filter_Mon_Year]\n",
    "Mon_Year_count = Mon_Year['Day'].value_counts()\n",
    "Mon_Year_count"
   ]
  },
  {
   "cell_type": "code",
   "execution_count": 125,
   "metadata": {},
   "outputs": [
    {
     "data": {
      "text/plain": [
       "1     1\n",
       "28    1\n",
       "Name: Day, dtype: int64"
      ]
     },
     "execution_count": 125,
     "metadata": {},
     "output_type": "execute_result"
    }
   ],
   "source": [
    "#Dec 2010\n",
    "filter_Mon_Year = (df['Occurred_at_KNPA?'] == 'yes') & (df[\"Year\"] == 2010) & (df[\"Month\"] == 12)\n",
    "Mon_Year = df[filter_Mon_Year]\n",
    "Mon_Year_count = Mon_Year['Day'].value_counts()\n",
    "Mon_Year_count"
   ]
  },
  {
   "cell_type": "code",
   "execution_count": 126,
   "metadata": {},
   "outputs": [
    {
     "data": {
      "text/plain": [
       "Series([], Name: Day, dtype: int64)"
      ]
     },
     "execution_count": 126,
     "metadata": {},
     "output_type": "execute_result"
    }
   ],
   "source": [
    "#Jan 2011\n",
    "filter_Mon_Year = (df['Occurred_at_KNPA?'] == 'yes') & (df[\"Year\"] == 2011) & (df[\"Month\"] == 1)\n",
    "Mon_Year = df[filter_Mon_Year]\n",
    "Mon_Year_count = Mon_Year['Day'].value_counts()\n",
    "Mon_Year_count"
   ]
  },
  {
   "cell_type": "code",
   "execution_count": 127,
   "metadata": {},
   "outputs": [
    {
     "data": {
      "text/plain": [
       "Series([], Name: Day, dtype: int64)"
      ]
     },
     "execution_count": 127,
     "metadata": {},
     "output_type": "execute_result"
    }
   ],
   "source": [
    "#Feb 2011\n",
    "filter_Mon_Year = (df['Occurred_at_KNPA?'] == 'yes') & (df[\"Year\"] == 2011) & (df[\"Month\"] == 2)\n",
    "Mon_Year = df[filter_Mon_Year]\n",
    "Mon_Year_count = Mon_Year['Day'].value_counts()\n",
    "Mon_Year_count"
   ]
  },
  {
   "cell_type": "code",
   "execution_count": 128,
   "metadata": {},
   "outputs": [
    {
     "data": {
      "text/plain": [
       "8    1\n",
       "Name: Day, dtype: int64"
      ]
     },
     "execution_count": 128,
     "metadata": {},
     "output_type": "execute_result"
    }
   ],
   "source": [
    "#Mar 2011\n",
    "filter_Mon_Year = (df['Occurred_at_KNPA?'] == 'yes') & (df[\"Year\"] == 2011) & (df[\"Month\"] == 3)\n",
    "Mon_Year = df[filter_Mon_Year]\n",
    "Mon_Year_count = Mon_Year['Day'].value_counts()\n",
    "Mon_Year_count"
   ]
  },
  {
   "cell_type": "code",
   "execution_count": 129,
   "metadata": {},
   "outputs": [
    {
     "data": {
      "text/plain": [
       "Series([], Name: Day, dtype: int64)"
      ]
     },
     "execution_count": 129,
     "metadata": {},
     "output_type": "execute_result"
    }
   ],
   "source": [
    "#Apr 2011\n",
    "filter_Mon_Year = (df['Occurred_at_KNPA?'] == 'yes') & (df[\"Year\"] == 2011) & (df[\"Month\"] == 4)\n",
    "Mon_Year = df[filter_Mon_Year]\n",
    "Mon_Year_count = Mon_Year['Day'].value_counts()\n",
    "Mon_Year_count"
   ]
  },
  {
   "cell_type": "code",
   "execution_count": null,
   "metadata": {},
   "outputs": [],
   "source": [
    "#Jan 2011\n",
    "filter_Mon_Year = (df['Occurred_at_KNPA?'] == 'yes') & (df[\"Year\"] == 2011) & (df[\"Month\"] == 1)\n",
    "Mon_Year = df[filter_Mon_Year]\n",
    "Mon_Year_count = Mon_Year['Day'].value_counts()\n",
    "Mon_Year_count"
   ]
  }
 ],
 "metadata": {
  "kernelspec": {
   "display_name": "Python 3",
   "language": "python",
   "name": "python3"
  },
  "language_info": {
   "codemirror_mode": {
    "name": "ipython",
    "version": 3
   },
   "file_extension": ".py",
   "mimetype": "text/x-python",
   "name": "python",
   "nbconvert_exporter": "python",
   "pygments_lexer": "ipython3",
   "version": "3.6.8"
  }
 },
 "nbformat": 4,
 "nbformat_minor": 2
}
